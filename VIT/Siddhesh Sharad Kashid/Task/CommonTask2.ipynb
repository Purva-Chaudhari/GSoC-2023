{
 "cells": [
  {
   "cell_type": "code",
   "execution_count": 1,
   "id": "83555240",
   "metadata": {},
   "outputs": [],
   "source": [
    "import tensorflow as tf\n",
    "import tensorflow_addons as tfa\n",
    "from tensorflow.keras.optimizers import Adam\n",
    "from tensorflow.keras.layers import Dense, Flatten, Conv2D, MaxPool2D, Activation\n",
    "from tensorflow.keras import Sequential\n",
    "from tensorflow.keras.preprocessing.image import ImageDataGenerator\n",
    "import pandas as pd\n",
    "import matplotlib.pyplot as plt\n",
    "import numpy as np"
   ]
  },
  {
   "cell_type": "code",
   "execution_count": 2,
   "id": "1febea51",
   "metadata": {},
   "outputs": [
    {
     "name": "stdout",
     "output_type": "stream",
     "text": [
      "C:\\Users\\siddh\\Downloads\\Parquet\n"
     ]
    }
   ],
   "source": [
    "%cd \"C:\\Users\\siddh\\Downloads\\Parquet\"\n",
    "filename0 = \"QCDToGGQQ_IMGjet_RH1all_jet0_run0_n36272.test.snappy (2).parquet\""
   ]
  },
  {
   "cell_type": "code",
   "execution_count": 3,
   "id": "0b1b9198",
   "metadata": {},
   "outputs": [],
   "source": [
    "from pyarrow.parquet import ParquetFile\n",
    "import pyarrow as pa \n",
    "\n",
    "pf0 = ParquetFile(filename0) \n",
    "first_ten_rows = next(pf0.iter_batches(batch_size = 1000)) \n",
    "df = pa.Table.from_batches([first_ten_rows]).to_pandas() "
   ]
  },
  {
   "cell_type": "code",
   "execution_count": 4,
   "id": "14ff2731",
   "metadata": {},
   "outputs": [
    {
     "data": {
      "text/html": [
       "<div>\n",
       "<style scoped>\n",
       "    .dataframe tbody tr th:only-of-type {\n",
       "        vertical-align: middle;\n",
       "    }\n",
       "\n",
       "    .dataframe tbody tr th {\n",
       "        vertical-align: top;\n",
       "    }\n",
       "\n",
       "    .dataframe thead th {\n",
       "        text-align: right;\n",
       "    }\n",
       "</style>\n",
       "<table border=\"1\" class=\"dataframe\">\n",
       "  <thead>\n",
       "    <tr style=\"text-align: right;\">\n",
       "      <th></th>\n",
       "      <th>X_jets</th>\n",
       "      <th>pt</th>\n",
       "      <th>m0</th>\n",
       "      <th>y</th>\n",
       "    </tr>\n",
       "  </thead>\n",
       "  <tbody>\n",
       "    <tr>\n",
       "      <th>0</th>\n",
       "      <td>[[[0.0, 0.0, 0.0, 0.0, 0.0, 0.0, 0.0, 0.0, 0.0...</td>\n",
       "      <td>112.411095</td>\n",
       "      <td>21.098248</td>\n",
       "      <td>0.0</td>\n",
       "    </tr>\n",
       "    <tr>\n",
       "      <th>1</th>\n",
       "      <td>[[[0.0, 0.0, 0.0, 0.0, 0.0, 0.0, 0.0, 0.0, 0.0...</td>\n",
       "      <td>95.220406</td>\n",
       "      <td>14.030600</td>\n",
       "      <td>1.0</td>\n",
       "    </tr>\n",
       "    <tr>\n",
       "      <th>2</th>\n",
       "      <td>[[[0.0, 0.0, 0.0, 0.0, 0.0, 0.0, 0.0, 0.0, 0.0...</td>\n",
       "      <td>97.007317</td>\n",
       "      <td>17.728968</td>\n",
       "      <td>1.0</td>\n",
       "    </tr>\n",
       "    <tr>\n",
       "      <th>3</th>\n",
       "      <td>[[[0.0, 0.0, 0.0, 0.0, 0.0, 0.0, 0.0, 0.0, 0.0...</td>\n",
       "      <td>82.490311</td>\n",
       "      <td>14.702741</td>\n",
       "      <td>0.0</td>\n",
       "    </tr>\n",
       "    <tr>\n",
       "      <th>4</th>\n",
       "      <td>[[[0.0, 0.0, 0.0, 0.0, 0.0, 0.0, 0.0, 0.328483...</td>\n",
       "      <td>102.539238</td>\n",
       "      <td>19.456257</td>\n",
       "      <td>0.0</td>\n",
       "    </tr>\n",
       "    <tr>\n",
       "      <th>...</th>\n",
       "      <td>...</td>\n",
       "      <td>...</td>\n",
       "      <td>...</td>\n",
       "      <td>...</td>\n",
       "    </tr>\n",
       "    <tr>\n",
       "      <th>995</th>\n",
       "      <td>[[[0.0, 0.0, 0.0, 0.0, 0.0, 0.0, 0.0, 0.0, 0.0...</td>\n",
       "      <td>91.645355</td>\n",
       "      <td>22.737965</td>\n",
       "      <td>0.0</td>\n",
       "    </tr>\n",
       "    <tr>\n",
       "      <th>996</th>\n",
       "      <td>[[[0.0, 0.0, 0.0, 0.0, 0.0, 0.0, 0.0, 0.0, 0.0...</td>\n",
       "      <td>87.665298</td>\n",
       "      <td>24.773489</td>\n",
       "      <td>0.0</td>\n",
       "    </tr>\n",
       "    <tr>\n",
       "      <th>997</th>\n",
       "      <td>[[[0.0, 0.0, 0.0, 0.0, 0.0, 0.0, 0.0, 0.0, 0.0...</td>\n",
       "      <td>104.653259</td>\n",
       "      <td>20.579176</td>\n",
       "      <td>0.0</td>\n",
       "    </tr>\n",
       "    <tr>\n",
       "      <th>998</th>\n",
       "      <td>[[[0.8996577858924866, 0.0, 0.0, 0.0, 0.0, 0.0...</td>\n",
       "      <td>176.875732</td>\n",
       "      <td>29.446840</td>\n",
       "      <td>0.0</td>\n",
       "    </tr>\n",
       "    <tr>\n",
       "      <th>999</th>\n",
       "      <td>[[[0.0, 0.0, 0.0, 0.0, 0.0, 0.0, 0.0, 0.0, 0.0...</td>\n",
       "      <td>125.035789</td>\n",
       "      <td>23.309217</td>\n",
       "      <td>1.0</td>\n",
       "    </tr>\n",
       "  </tbody>\n",
       "</table>\n",
       "<p>1000 rows × 4 columns</p>\n",
       "</div>"
      ],
      "text/plain": [
       "                                                X_jets          pt         m0  \\\n",
       "0    [[[0.0, 0.0, 0.0, 0.0, 0.0, 0.0, 0.0, 0.0, 0.0...  112.411095  21.098248   \n",
       "1    [[[0.0, 0.0, 0.0, 0.0, 0.0, 0.0, 0.0, 0.0, 0.0...   95.220406  14.030600   \n",
       "2    [[[0.0, 0.0, 0.0, 0.0, 0.0, 0.0, 0.0, 0.0, 0.0...   97.007317  17.728968   \n",
       "3    [[[0.0, 0.0, 0.0, 0.0, 0.0, 0.0, 0.0, 0.0, 0.0...   82.490311  14.702741   \n",
       "4    [[[0.0, 0.0, 0.0, 0.0, 0.0, 0.0, 0.0, 0.328483...  102.539238  19.456257   \n",
       "..                                                 ...         ...        ...   \n",
       "995  [[[0.0, 0.0, 0.0, 0.0, 0.0, 0.0, 0.0, 0.0, 0.0...   91.645355  22.737965   \n",
       "996  [[[0.0, 0.0, 0.0, 0.0, 0.0, 0.0, 0.0, 0.0, 0.0...   87.665298  24.773489   \n",
       "997  [[[0.0, 0.0, 0.0, 0.0, 0.0, 0.0, 0.0, 0.0, 0.0...  104.653259  20.579176   \n",
       "998  [[[0.8996577858924866, 0.0, 0.0, 0.0, 0.0, 0.0...  176.875732  29.446840   \n",
       "999  [[[0.0, 0.0, 0.0, 0.0, 0.0, 0.0, 0.0, 0.0, 0.0...  125.035789  23.309217   \n",
       "\n",
       "       y  \n",
       "0    0.0  \n",
       "1    1.0  \n",
       "2    1.0  \n",
       "3    0.0  \n",
       "4    0.0  \n",
       "..   ...  \n",
       "995  0.0  \n",
       "996  0.0  \n",
       "997  0.0  \n",
       "998  0.0  \n",
       "999  1.0  \n",
       "\n",
       "[1000 rows x 4 columns]"
      ]
     },
     "execution_count": 4,
     "metadata": {},
     "output_type": "execute_result"
    }
   ],
   "source": [
    "df"
   ]
  },
  {
   "cell_type": "code",
   "execution_count": 5,
   "id": "5686ba83",
   "metadata": {},
   "outputs": [
    {
     "data": {
      "text/plain": [
       "pandas.core.series.Series"
      ]
     },
     "execution_count": 5,
     "metadata": {},
     "output_type": "execute_result"
    }
   ],
   "source": [
    "type(df['X_jets'])"
   ]
  },
  {
   "cell_type": "code",
   "execution_count": 6,
   "id": "e23160e6",
   "metadata": {},
   "outputs": [],
   "source": [
    "def func(x):\n",
    "    return tf.constant(x.tolist())"
   ]
  },
  {
   "cell_type": "code",
   "execution_count": 7,
   "id": "f8cdc854",
   "metadata": {},
   "outputs": [],
   "source": [
    "train_data = np.moveaxis(np.array([func(x) for x in df[\"X_jets\"]]),1,-1)"
   ]
  },
  {
   "cell_type": "code",
   "execution_count": 8,
   "id": "f2c76f4c",
   "metadata": {},
   "outputs": [
    {
     "data": {
      "text/plain": [
       "(1000, 125, 125, 3)"
      ]
     },
     "execution_count": 8,
     "metadata": {},
     "output_type": "execute_result"
    }
   ],
   "source": [
    "train_data.shape"
   ]
  },
  {
   "cell_type": "code",
   "execution_count": 9,
   "id": "ad397883",
   "metadata": {},
   "outputs": [],
   "source": [
    "train_labels = np.array(df[\"y\"].tolist())"
   ]
  },
  {
   "cell_type": "code",
   "execution_count": 10,
   "id": "ce25746e",
   "metadata": {},
   "outputs": [],
   "source": [
    "train_labels = train_labels.reshape(-1,1)"
   ]
  },
  {
   "cell_type": "code",
   "execution_count": 11,
   "id": "95667a0b",
   "metadata": {},
   "outputs": [
    {
     "name": "stderr",
     "output_type": "stream",
     "text": [
      "Clipping input data to the valid range for imshow with RGB data ([0..1] for floats or [0..255] for integers).\n"
     ]
    },
    {
     "data": {
      "image/png": "[encoded data removed]",
      "text/plain": [
       "<Figure size 640x480 with 1 Axes>"
      ]
     },
     "metadata": {},
     "output_type": "display_data"
    }
   ],
   "source": [
    "plt.imshow(train_data[10]);"
   ]
  },
  {
   "cell_type": "code",
   "execution_count": 12,
   "id": "a3d4d955",
   "metadata": {},
   "outputs": [],
   "source": [
    "datagen = ImageDataGenerator()"
   ]
  },
  {
   "cell_type": "code",
   "execution_count": 13,
   "id": "bd5e0716",
   "metadata": {},
   "outputs": [],
   "source": [
    "# Splitted into train and validation dataset (validation data is used then for testing)\n",
    "from sklearn.model_selection import train_test_split\n",
    "train_matrix, test_matrix, train_labels, test_labels = train_test_split(train_data, \n",
    "                                                                        train_labels,\n",
    "                                                                        test_size = 0.2,     # use 10 percent data\n",
    "                                                                        random_state = 42) "
   ]
  },
  {
   "cell_type": "code",
   "execution_count": 14,
   "id": "e3bd2e5a",
   "metadata": {},
   "outputs": [
    {
     "data": {
      "text/plain": [
       "(800, 200, 800, 200, (800, 125, 125, 3))"
      ]
     },
     "execution_count": 14,
     "metadata": {},
     "output_type": "execute_result"
    }
   ],
   "source": [
    "len(train_matrix), len(test_matrix), len(train_labels), len(test_labels), train_matrix.shape"
   ]
  },
  {
   "cell_type": "markdown",
   "id": "95a66c50",
   "metadata": {},
   "source": [
    "# Model0"
   ]
  },
  {
   "cell_type": "code",
   "execution_count": 15,
   "id": "3e5d77a9",
   "metadata": {},
   "outputs": [
    {
     "name": "stderr",
     "output_type": "stream",
     "text": [
      "C:\\Users\\siddh\\anaconda3\\envs\\tf_gpu\\lib\\site-packages\\keras\\optimizers\\optimizer_v2\\adam.py:114: UserWarning: The `lr` argument is deprecated, use `learning_rate` instead.\n",
      "  super().__init__(name, **kwargs)\n"
     ]
    },
    {
     "name": "stdout",
     "output_type": "stream",
     "text": [
      "Epoch 1/30\n",
      "13/13 [==============================] - 6s 105ms/step - loss: 0.6720 - accuracy: 0.5938 - val_loss: 0.6718 - val_accuracy: 0.6500\n",
      "Epoch 2/30\n",
      "13/13 [==============================] - 1s 56ms/step - loss: 0.6311 - accuracy: 0.6637 - val_loss: 0.6760 - val_accuracy: 0.6300\n",
      "Epoch 3/30\n",
      "13/13 [==============================] - 1s 57ms/step - loss: 0.6201 - accuracy: 0.6625 - val_loss: 0.6595 - val_accuracy: 0.6600\n",
      "Epoch 4/30\n",
      "13/13 [==============================] - 1s 57ms/step - loss: 0.6070 - accuracy: 0.6712 - val_loss: 0.6680 - val_accuracy: 0.6800\n",
      "Epoch 5/30\n",
      "13/13 [==============================] - 1s 57ms/step - loss: 0.6154 - accuracy: 0.6900 - val_loss: 0.6578 - val_accuracy: 0.6650\n",
      "Epoch 6/30\n",
      "13/13 [==============================] - 1s 55ms/step - loss: 0.5788 - accuracy: 0.7038 - val_loss: 0.6776 - val_accuracy: 0.6950\n",
      "Epoch 7/30\n",
      "13/13 [==============================] - 1s 55ms/step - loss: 0.5838 - accuracy: 0.6875 - val_loss: 0.6679 - val_accuracy: 0.6600\n",
      "Epoch 8/30\n",
      "13/13 [==============================] - 1s 55ms/step - loss: 0.5534 - accuracy: 0.7262 - val_loss: 0.6560 - val_accuracy: 0.6800\n",
      "Epoch 9/30\n",
      "13/13 [==============================] - 1s 55ms/step - loss: 0.5472 - accuracy: 0.7362 - val_loss: 0.6419 - val_accuracy: 0.6800\n",
      "Epoch 10/30\n",
      "13/13 [==============================] - 1s 55ms/step - loss: 0.5274 - accuracy: 0.7575 - val_loss: 0.6774 - val_accuracy: 0.6800\n",
      "Epoch 11/30\n",
      "13/13 [==============================] - 1s 55ms/step - loss: 0.5174 - accuracy: 0.7525 - val_loss: 0.6532 - val_accuracy: 0.6900\n",
      "Epoch 12/30\n",
      "13/13 [==============================] - 1s 56ms/step - loss: 0.4891 - accuracy: 0.7800 - val_loss: 0.6469 - val_accuracy: 0.6900\n",
      "Epoch 13/30\n",
      "13/13 [==============================] - 1s 57ms/step - loss: 0.4803 - accuracy: 0.7950 - val_loss: 0.6669 - val_accuracy: 0.7000\n",
      "Epoch 14/30\n",
      "13/13 [==============================] - 1s 57ms/step - loss: 0.4597 - accuracy: 0.7987 - val_loss: 0.6432 - val_accuracy: 0.6650\n",
      "Epoch 15/30\n",
      "13/13 [==============================] - 1s 57ms/step - loss: 0.4228 - accuracy: 0.8238 - val_loss: 0.6819 - val_accuracy: 0.6700\n",
      "Epoch 16/30\n",
      "13/13 [==============================] - 1s 57ms/step - loss: 0.4195 - accuracy: 0.8213 - val_loss: 0.6770 - val_accuracy: 0.6850\n",
      "Epoch 17/30\n",
      "13/13 [==============================] - 1s 58ms/step - loss: 0.3818 - accuracy: 0.8413 - val_loss: 0.6910 - val_accuracy: 0.6750\n",
      "Epoch 18/30\n",
      "13/13 [==============================] - 1s 57ms/step - loss: 0.3707 - accuracy: 0.8600 - val_loss: 0.7012 - val_accuracy: 0.7250\n",
      "Epoch 19/30\n",
      "13/13 [==============================] - 1s 58ms/step - loss: 0.3500 - accuracy: 0.8600 - val_loss: 0.7707 - val_accuracy: 0.6950\n",
      "Epoch 20/30\n",
      "13/13 [==============================] - 1s 57ms/step - loss: 0.3377 - accuracy: 0.8625 - val_loss: 0.7286 - val_accuracy: 0.7000\n",
      "Epoch 21/30\n",
      "13/13 [==============================] - 1s 56ms/step - loss: 0.3187 - accuracy: 0.8737 - val_loss: 0.7075 - val_accuracy: 0.6950\n",
      "Epoch 22/30\n",
      "13/13 [==============================] - 1s 55ms/step - loss: 0.3103 - accuracy: 0.8788 - val_loss: 0.8575 - val_accuracy: 0.7200\n",
      "Epoch 23/30\n",
      "13/13 [==============================] - 1s 56ms/step - loss: 0.2656 - accuracy: 0.9038 - val_loss: 0.8069 - val_accuracy: 0.7000\n",
      "Epoch 24/30\n",
      "13/13 [==============================] - 1s 58ms/step - loss: 0.2628 - accuracy: 0.8925 - val_loss: 0.7626 - val_accuracy: 0.6650\n",
      "Epoch 25/30\n",
      "13/13 [==============================] - 1s 59ms/step - loss: 0.2365 - accuracy: 0.9150 - val_loss: 0.8913 - val_accuracy: 0.7250\n",
      "Epoch 26/30\n",
      "13/13 [==============================] - 1s 57ms/step - loss: 0.1942 - accuracy: 0.9413 - val_loss: 0.9583 - val_accuracy: 0.7050\n",
      "Epoch 27/30\n",
      "13/13 [==============================] - 1s 56ms/step - loss: 0.1841 - accuracy: 0.9463 - val_loss: 0.8477 - val_accuracy: 0.7100\n",
      "Epoch 28/30\n",
      "13/13 [==============================] - 1s 57ms/step - loss: 0.1899 - accuracy: 0.9350 - val_loss: 0.8526 - val_accuracy: 0.6900\n",
      "Epoch 29/30\n",
      "13/13 [==============================] - 1s 57ms/step - loss: 0.1708 - accuracy: 0.9413 - val_loss: 0.9574 - val_accuracy: 0.6750\n",
      "Epoch 30/30\n",
      "13/13 [==============================] - 1s 58ms/step - loss: 0.2009 - accuracy: 0.9275 - val_loss: 0.9297 - val_accuracy: 0.7250\n"
     ]
    }
   ],
   "source": [
    "model = tf.keras.Sequential([\n",
    "  Conv2D(10, 10, padding='same', activation='relu'),\n",
    "  MaxPool2D(),\n",
    "  Conv2D(20, 10, padding='same', activation='relu'),\n",
    "  MaxPool2D(),\n",
    "  Conv2D(40, 10, padding='same', activation='relu'),\n",
    "  MaxPool2D(),\n",
    "  Flatten(),\n",
    "  tf.keras.layers.Dropout(0.3),\n",
    "  Dense(50, activation='relu'),\n",
    "  tf.keras.layers.Dropout(0.2),\n",
    "  Dense(25, activation='relu'),\n",
    "  Dense(1, activation = \"sigmoid\")\n",
    "])\n",
    "\n",
    "\n",
    "optimizer = tf.keras.optimizers.Adam(lr = 0.0003)\n",
    "    \n",
    "# Compile the model\n",
    "model.compile(loss=\"binary_crossentropy\",\n",
    "              optimizer=optimizer,\n",
    "              metrics=[\"accuracy\"])\n",
    "\n",
    "history = model.fit(datagen.flow(train_matrix,train_labels, batch_size=64,shuffle = False), \n",
    "                    epochs=30, \n",
    "                    verbose = 1,\n",
    "                   validation_data=datagen.flow(test_matrix, test_labels, batch_size=32,shuffle=False))"
   ]
  },
  {
   "cell_type": "code",
   "execution_count": 22,
   "id": "deac2f6f",
   "metadata": {},
   "outputs": [],
   "source": [
    "from sklearn.metrics import accuracy_score, precision_recall_fscore_support\n",
    "def calculate_results(y_true, y_pred):\n",
    "    \"\"\"\n",
    "    Calculate model's accuracy, precision, recall and f1 score of a binary classification model.\n",
    "    \"\"\"\n",
    "    # Calculate accuracy\n",
    "    model_accuracy = accuracy_score(y_true, y_pred)*100\n",
    "    # Calculate model precision, recall and f1-score using \"weightd average\"\n",
    "    model_precision, model_recall, model_f1, __ = precision_recall_fscore_support(y_true, y_pred, average = \"weighted\")    # weighted average is good in the case when there is label imbalance\n",
    "    model_results = {\"accuracy\": model_accuracy,\n",
    "                     \"precision\": model_precision,\n",
    "                     \"recall\": model_recall,\n",
    "                     \"f1\": model_f1}\n",
    "    return model_results"
   ]
  },
  {
   "cell_type": "code",
   "execution_count": 23,
   "id": "8c39057f",
   "metadata": {},
   "outputs": [
    {
     "name": "stdout",
     "output_type": "stream",
     "text": [
      "13/13 [==============================] - 1s 42ms/step\n"
     ]
    },
    {
     "data": {
      "text/plain": [
       "{'accuracy': 97.75,\n",
       " 'precision': 0.9780583410300392,\n",
       " 'recall': 0.9775,\n",
       " 'f1': 0.9774782780410743}"
      ]
     },
     "execution_count": 23,
     "metadata": {},
     "output_type": "execute_result"
    }
   ],
   "source": [
    "preds0 = model.predict(datagen.flow(train_matrix, train_labels, batch_size=64, shuffle=False))\n",
    "preds0 = np.array(tf.round(preds0), dtype = 'int').reshape(-1,)\n",
    "results0 = calculate_results(y_true=train_labels,y_pred=preds0)\n",
    "results0"
   ]
  },
  {
   "cell_type": "code",
   "execution_count": 24,
   "id": "a0d99df1",
   "metadata": {},
   "outputs": [
    {
     "data": {
      "text/plain": [
       "0.9768111406665623"
      ]
     },
     "execution_count": 24,
     "metadata": {},
     "output_type": "execute_result"
    }
   ],
   "source": [
    "from sklearn.metrics import roc_auc_score\n",
    "res0 = roc_auc_score(train_labels,preds0)\n",
    "res0"
   ]
  },
  {
   "cell_type": "code",
   "execution_count": 29,
   "id": "34b15f3f",
   "metadata": {},
   "outputs": [
    {
     "name": "stderr",
     "output_type": "stream",
     "text": [
      "WARNING:absl:Found untraced functions such as _jit_compiled_convolution_op, _jit_compiled_convolution_op, _jit_compiled_convolution_op while saving (showing 3 of 3). These functions will not be directly callable after loading.\n"
     ]
    },
    {
     "name": "stdout",
     "output_type": "stream",
     "text": [
      "INFO:tensorflow:Assets written to: CommonTask2_tf\\assets\n"
     ]
    },
    {
     "name": "stderr",
     "output_type": "stream",
     "text": [
      "INFO:tensorflow:Assets written to: CommonTask2_tf\\assets\n"
     ]
    }
   ],
   "source": [
    "model.save('CommonTask2_tf')"
   ]
  },
  {
   "cell_type": "code",
   "execution_count": null,
   "id": "6626a6d1",
   "metadata": {},
   "outputs": [],
   "source": []
  }
 ],
 "metadata": {
  "kernelspec": {
   "display_name": "Python 3 (ipykernel)",
   "language": "python",
   "name": "python3"
  },
  "language_info": {
   "codemirror_mode": {
    "name": "ipython",
    "version": 3
   },
   "file_extension": ".py",
   "mimetype": "text/x-python",
   "name": "python",
   "nbconvert_exporter": "python",
   "pygments_lexer": "ipython3",
   "version": "3.10.10"
  }
 },
 "nbformat": 4,
 "nbformat_minor": 5
}
